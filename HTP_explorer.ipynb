{
 "cells": [
  {
   "cell_type": "code",
   "execution_count": null,
   "id": "f1cd714d",
   "metadata": {},
   "outputs": [],
   "source": [
    "file_path = \"\""
   ]
  },
  {
   "cell_type": "code",
   "execution_count": null,
   "id": "83a40915",
   "metadata": {},
   "outputs": [],
   "source": [
    "%matplotlib widget\n",
    "from pathlib import Path\n",
    "import matplotlib.pyplot as plt\n",
    "import ncempy.io as nio\n",
    "from ipywidgets import widgets\n",
    "import h5py\n",
    "import pickle"
   ]
  },
  {
   "cell_type": "code",
   "execution_count": null,
   "id": "9517e06f",
   "metadata": {},
   "outputs": [],
   "source": [
    "print(f\"Selected file: {file_path}\")"
   ]
  },
  {
   "cell_type": "code",
   "execution_count": null,
   "id": "52449a6a",
   "metadata": {},
   "outputs": [],
   "source": [
    "global emd\n",
    "option = {}\n",
    "opt = []"
   ]
  },
  {
   "cell_type": "code",
   "execution_count": null,
   "id": "d916efd6",
   "metadata": {},
   "outputs": [],
   "source": [
    "num_pics = 0"
   ]
  },
  {
   "cell_type": "code",
   "execution_count": null,
   "id": "48833517",
   "metadata": {},
   "outputs": [],
   "source": [
    "def get_file(file):\n",
    "    global num_pics\n",
    "    global opt\n",
    "    emd = nio.emd.emdReader(file)\n",
    "    num_pics = emd['data'].shape[0]\n",
    "    \n",
    "    for k in range(4):\n",
    "        try:\n",
    "            emd1 = (nio.emd.emdReader(file, dsetNum = k)['name'])\n",
    "            option[emd1] = int(emd1[6:])\n",
    "        except TypeError:\n",
    "            pass\n",
    "    for val in option.values():\n",
    "        opt.append(val)\n"
   ]
  },
  {
   "cell_type": "code",
   "execution_count": null,
   "id": "54dc85a2",
   "metadata": {},
   "outputs": [],
   "source": [
    "%%capture \n",
    "# ^^hides the \"group does not exist\" output\n",
    "get_file(file_path)"
   ]
  },
  {
   "cell_type": "code",
   "execution_count": null,
   "id": "d0dc8765",
   "metadata": {},
   "outputs": [],
   "source": [
    "image_number = widgets.IntSlider(\n",
    "    value=1,\n",
    "    min=1,\n",
    "    max=num_pics,\n",
    "    step=1,\n",
    "    description='Image Number: '\n",
    ")\n",
    "\n",
    "size = widgets.Dropdown(\n",
    "    options = opt,\n",
    "    value = opt[0],\n",
    "    description='Image Size'\n",
    ")"
   ]
  },
  {
   "cell_type": "markdown",
   "id": "3ac1e8fd",
   "metadata": {},
   "source": []
  },
  {
   "cell_type": "code",
   "execution_count": null,
   "id": "3ecadc86",
   "metadata": {},
   "outputs": [],
   "source": [
    "def change_pic (image_number, size):\n",
    "    #read in selected emd data\n",
    "    emd = nio.emd.emdReader(file_path, dsetNum = opt.index(size))\n",
    "    \n",
    "    #display image\n",
    "    fig,ax = plt.subplots(1, 1)\n",
    "    pic = plt.imshow(emd['data'][image_number-1])\n",
    "    plt.show()   \n",
    "    \n",
    "    #print metadata\n",
    "    print(f\"Name: {emd['name']}\")\n",
    "    #print(f\"Image Size: {emd['data'].shape[1]} {emd['pixelUnit'][1]}s by {emd['data'].shape[1]} {emd['pixelUnit'][1]}s\")\n",
    "    data_name = emd['name']\n",
    "    with h5py.File(file_path, 'r') as f:\n",
    "        pickledict = f[f\"data/{emd['name']}/pickledict\"][image_number-1] # take each images\n",
    "        d = pickle.loads(pickledict, encoding='bytes')\n",
    "        data = f[f\"data/{emd['name']}/data\"][image_number-1]\n",
    "    \n",
    "    metadata = {}\n",
    "    metadata['Image Shape'] = d['_imageDataShape']\n",
    "    metadata['Pixel Size'] = d['_calX'] # this assumes X and Y have the same pixel size \n",
    "    metadata['Brightness'] = d['_brightness'] # HAADF brightness \n",
    "    metadata['Contrast'] = d['_contrast'] # HAADF contrast\n",
    "    metadata['Comment'] = d['_comment'] # image comment\n",
    "    metadata['Camera Length'] = d['_cameralength'] # camera length label\n",
    "    metadata['Camera Length Index'] = d['_cameralengthindex'] # camera length index\n",
    "    metadata['Convergence Angle'] = d['_convergenceAngle'] # in radians\n",
    "    metadata['Defocus'] = d['_defocus']\n",
    "    metadata['Dwell Time'] = d['_dwell']\n",
    "    metadata['Accelerating Voltage'] = d['_HTValue']\n",
    "    metadata['Magnification'] = d['_mag']\n",
    "    metadata['Stage Position'] = d['_position'] # X, Y, Z, Alpha, Gamma\n",
    "    metadata['Scan Rotation'] = d['_rot'] # STEM scan rotation\n",
    "    metadata['Field of View'] = [metadata['Pixel Size'] * metadata['Image Shape'][0], metadata['Pixel Size'] * metadata['Image Shape'][1]]\n",
    "    \n",
    "    #check comment note about leaving out if empty\n",
    "    for k,v in metadata.items():\n",
    "        if(k == 'Pixel Size'):\n",
    "            print(f\"{k}: {v*10**9:.2f}nm\")\n",
    "        elif(k == 'Comment' and v == \"; \"):\n",
    "            pass\n",
    "        elif(k == 'Camera Length'):\n",
    "            print(f\"{k}: {v*1000}mm\")\n",
    "        elif(k == 'Convergence Angle'):\n",
    "            print(f\"{k}: {v*1000:.2f}mrad\")\n",
    "        elif(k == 'Defocus'):\n",
    "            print(f\"{k}: {v*10**9:.2f}nm\")\n",
    "        elif(k == 'Dwell Time'):\n",
    "            print(f\"{k}: {v*10**6}μsec\")\n",
    "        elif(k == 'Accelerating Voltage'):\n",
    "            print(f\"{k}: {v/1000}kV\")\n",
    "        elif(k == \"Image Shape\"):\n",
    "            print(f\"{k}: {v[0]}pixels by {v[1]}pixels\")\n",
    "        elif(k == 'Stage Position'):\n",
    "            print(f\"{k}(X, Y, Z): {v[0]*10**6:.2f}μm, {v[1]*10**6:.2f}μm, {v[2]*10**6:.2f}μm \\n{k}(Alpha, Gamma): {v[3]:.2f}degrees, {v[4]:.2f}degrees\")\n",
    "        elif(k == 'Scan Rotation'):\n",
    "            print(f\"{k}: {v:.1f}\")\n",
    "        elif(k == \"Field of View\"):\n",
    "            print(f\"{k}: {v[0]*10**9:.2f}nm by {v[1]*10**9:.2f}nm\")\n",
    "        else:\n",
    "            print(f\"{k}: {v}\")"
   ]
  },
  {
   "cell_type": "code",
   "execution_count": null,
   "id": "e25c4b82",
   "metadata": {},
   "outputs": [],
   "source": [
    "widgets.interactive(change_pic, image_number = image_number, size=size)"
   ]
  }
 ],
 "metadata": {
  "kernelspec": {
   "display_name": "Python 3",
   "language": "python",
   "name": "python3"
  },
  "language_info": {
   "codemirror_mode": {
    "name": "ipython",
    "version": 3
   },
   "file_extension": ".py",
   "mimetype": "text/x-python",
   "name": "python",
   "nbconvert_exporter": "python",
   "pygments_lexer": "ipython3",
   "version": "3.8.5"
  }
 },
 "nbformat": 4,
 "nbformat_minor": 5
}
