{
 "cells": [
  {
   "cell_type": "code",
   "execution_count": 59,
   "id": "342e3413",
   "metadata": {},
   "outputs": [],
   "source": [
    "file_path = \"D:/Summer 2022/Berkeley Labs EinR/Data/20220505_HfO2_19.emd\"\n",
    "#20220505_HfO2_19.emd\n",
    "#ir_Au2_LAADF_interface.emd  <-- only has 1024"
   ]
  },
  {
   "cell_type": "code",
   "execution_count": 97,
   "id": "48825a9e",
   "metadata": {},
   "outputs": [],
   "source": [
    "%matplotlib widget\n",
    "import numpy as np\n",
    "import pandas as pd\n",
    "from pathlib import Path\n",
    "import matplotlib.pyplot as plt\n",
    "import ncempy.io as nio\n",
    "from ipywidgets import widgets\n",
    "import h5py\n",
    "import pickle\n",
    "#from IPython.display import HTML"
   ]
  },
  {
   "cell_type": "code",
   "execution_count": 61,
   "id": "a0a2333d",
   "metadata": {},
   "outputs": [
    {
     "name": "stdout",
     "output_type": "stream",
     "text": [
      "Selected file: D:/Summer 2022/Berkeley Labs EinR/Data/20220607_HfO2_11nm_area2_1.emd\n"
     ]
    }
   ],
   "source": [
    "print(f\"Selected file: {file_path}\")"
   ]
  },
  {
   "cell_type": "code",
   "execution_count": 62,
   "id": "de5b8a91",
   "metadata": {},
   "outputs": [],
   "source": [
    "global emd\n",
    "option = {}\n",
    "opt = []"
   ]
  },
  {
   "cell_type": "code",
   "execution_count": 63,
   "id": "dc71008f",
   "metadata": {},
   "outputs": [],
   "source": [
    "num_pics = 0"
   ]
  },
  {
   "cell_type": "code",
   "execution_count": 64,
   "id": "eb924360",
   "metadata": {},
   "outputs": [],
   "source": [
    "def get_file(file):\n",
    "    global num_pics\n",
    "    global opt\n",
    "    emd = nio.emd.emdReader(file)\n",
    "    num_pics = emd['data'].shape[0]\n",
    "    \n",
    "    for k in range(4):\n",
    "        try:\n",
    "            emd1 = (nio.emd.emdReader(file, dsetNum = k)['name'])\n",
    "            option[emd1] = int(emd1[6:])\n",
    "        except TypeError:\n",
    "            pass\n",
    "    for val in option.values():\n",
    "        opt.append(val)\n"
   ]
  },
  {
   "cell_type": "code",
   "execution_count": 65,
   "id": "8188a9fb",
   "metadata": {},
   "outputs": [],
   "source": [
    "%%capture \n",
    "# ^^hides the \"group does not exist\" output\n",
    "get_file(file_path)"
   ]
  },
  {
   "cell_type": "code",
   "execution_count": 53,
   "id": "3113692e",
   "metadata": {},
   "outputs": [],
   "source": [
    "image_number = widgets.IntSlider(\n",
    "    value=1,\n",
    "    min=1,\n",
    "    max=num_pics,\n",
    "    step=1,\n",
    "    description='Image Number: '\n",
    ")\n",
    "\n",
    "size = widgets.Dropdown(\n",
    "    options = opt,\n",
    "    value = opt[0],\n",
    "    description='Image Size'\n",
    ")"
   ]
  },
  {
   "cell_type": "markdown",
   "id": "de95da84",
   "metadata": {},
   "source": []
  },
  {
   "cell_type": "code",
   "execution_count": 24,
   "id": "5247b24a",
   "metadata": {},
   "outputs": [],
   "source": [
    "def change_pic (image_number, size):\n",
    "    #read in selected emd data\n",
    "    emd = nio.emd.emdReader(file_path, dsetNum = opt.index(size))\n",
    "    \n",
    "    #display image\n",
    "    fig,ax = plt.subplots(1, 1)\n",
    "    pic = plt.imshow(emd['data'][image_number-1])\n",
    "    plt.show()   \n",
    "    \n",
    "    #print metadata\n",
    "    print(f\"Name: {emd['name']}\")\n",
    "    #print(f\"Image Size: {emd['data'].shape[1]} {emd['pixelUnit'][1]}s by {emd['data'].shape[1]} {emd['pixelUnit'][1]}s\")\n",
    "    data_name = emd['name']\n",
    "    with h5py.File(file_path, 'r') as f:\n",
    "        pickledict = f[f\"data/{emd['name']}/pickledict\"][image_number-1] # take each images\n",
    "        d = pickle.loads(pickledict, encoding='bytes')\n",
    "        data = f[f\"data/{emd['name']}/data\"][image_number-1]\n",
    "    \n",
    "    metadata = {}\n",
    "    metadata['Image Shape'] = d['_imageDataShape']\n",
    "    metadata['Pixel Size'] = d['_calX'] # this assumes X and Y have the same pixel size \n",
    "    metadata['Brightness'] = d['_brightness'] # HAADF brightness \n",
    "    metadata['Contrast'] = d['_contrast'] # HAADF contrast\n",
    "    metadata['Comment'] = d['_comment'] # image comment\n",
    "    metadata['Camera Length'] = d['_cameralength'] # camera length label\n",
    "    metadata['Camera Length Index'] = d['_cameralengthindex'] # camera length index\n",
    "    metadata['Convergence Angle'] = d['_convergenceAngle'] # in radians\n",
    "    metadata['Defocus'] = d['_defocus']\n",
    "    metadata['Dwell Time'] = d['_dwell']\n",
    "    metadata['Accelerating Voltage'] = d['_HTValue']\n",
    "    metadata['Magnification'] = d['_mag']\n",
    "    metadata['Stage Position'] = d['_position'] # X, Y, Z, Alpha, Gamma\n",
    "    metadata['Scan Rotation'] = d['_rot'] # STEM scan rotation\n",
    "    metadata['Field of View'] = [metadata['Pixel Size'] * metadata['Image Shape'][0], metadata['Pixel Size'] * metadata['Image Shape'][1]]\n",
    "    \n",
    "    #check comment note about leaving out if empty\n",
    "    for k,v in metadata.items():\n",
    "        if(k == 'Pixel Size'):\n",
    "            print(f\"{k}: {v*10**9:.2f}nm\")\n",
    "        elif(k == 'Comment' and v == \"; \"):\n",
    "            pass\n",
    "        elif(k == 'Camera Length'):\n",
    "            print(f\"{k}: {v*1000}mm\")\n",
    "        elif(k == 'Convergence Angle'):\n",
    "            print(f\"{k}: {v*1000:.2f}mrad\")\n",
    "        elif(k == 'Defocus'):\n",
    "            print(f\"{k}: {v*10**9:.2f}nm\")\n",
    "        elif(k == 'Dwell Time'):\n",
    "            print(f\"{k}: {v*10**6}μsec\")\n",
    "        elif(k == 'Accelerating Voltage'):\n",
    "            print(f\"{k}: {v/1000}kV\")\n",
    "        elif(k == \"Image Shape\"):\n",
    "            print(f\"{k}: {v[0]}pixels by {v[1]}pixels\")\n",
    "        elif(k == 'Stage Position'):\n",
    "            print(f\"{k}(X, Y, Z): {v[0]*10**6:.2f}μm, {v[1]*10**6:.2f}μm, {v[2]*10**6:.2f}μm \\n{k}(Alpha, Gamma): {v[3]:.2f}degrees, {v[4]:.2f}degrees\")\n",
    "        elif(k == 'Scan Rotation'):\n",
    "            print(f\"{k}: {v:.1f}\")\n",
    "        elif(k == \"Field of View\"):\n",
    "            print(f\"{k}: {v[0]*10**9:.2f}nm by {v[1]*10**9:.2f}nm\")\n",
    "        else:\n",
    "            print(f\"{k}: {v}\")"
   ]
  },
  {
   "cell_type": "code",
   "execution_count": 7,
   "id": "1d8e1ee8",
   "metadata": {},
   "outputs": [
    {
     "name": "stdout",
     "output_type": "stream",
     "text": [
      "1: 0.02nm\n"
     ]
    }
   ],
   "source": [
    "k = 1\n",
    "v = 2\n",
    "#print(f\"{k}: {v/10**2}nm\")"
   ]
  },
  {
   "cell_type": "code",
   "execution_count": 9,
   "id": "488ccc25",
   "metadata": {},
   "outputs": [
    {
     "data": {
      "text/plain": [
       "'test = 2, 1.65'"
      ]
     },
     "execution_count": 9,
     "metadata": {},
     "output_type": "execute_result"
    }
   ],
   "source": [
    "#\"test = {1}, {0:.3}\".format(1.6473857187,2)"
   ]
  },
  {
   "cell_type": "code",
   "execution_count": 15,
   "id": "6c8a0f33",
   "metadata": {},
   "outputs": [
    {
     "name": "stdout",
     "output_type": "stream",
     "text": [
      "test = \n",
      " 1.1, 2.2\n"
     ]
    }
   ],
   "source": [
    "aa = [1.1, 2.2]\n",
    "#print(\"test = \\n {0[0]}, {0[1]}\".format(aa))"
   ]
  },
  {
   "cell_type": "code",
   "execution_count": 24,
   "id": "339ae6b6",
   "metadata": {},
   "outputs": [
    {
     "data": {
      "application/vnd.jupyter.widget-view+json": {
       "model_id": "0236e2b8fc9e4df8a42ae3cd258211a5",
       "version_major": 2,
       "version_minor": 0
      },
      "text/plain": [
       "interactive(children=(IntSlider(value=1, description='Image Number: ', max=51, min=1), Dropdown(description='I…"
      ]
     },
     "metadata": {},
     "output_type": "display_data"
    }
   ],
   "source": [
    "widgets.interactive(change_pic, image_number = image_number, size=size)"
   ]
  },
  {
   "cell_type": "code",
   "execution_count": null,
   "id": "ce0949d5",
   "metadata": {},
   "outputs": [],
   "source": []
  }
 ],
 "metadata": {
  "kernelspec": {
   "display_name": "Python 3",
   "language": "python",
   "name": "python3"
  },
  "language_info": {
   "codemirror_mode": {
    "name": "ipython",
    "version": 3
   },
   "file_extension": ".py",
   "mimetype": "text/x-python",
   "name": "python",
   "nbconvert_exporter": "python",
   "pygments_lexer": "ipython3",
   "version": "3.8.5"
  }
 },
 "nbformat": 4,
 "nbformat_minor": 5
}
