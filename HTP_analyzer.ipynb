{
 "cells": [
  {
   "cell_type": "code",
   "execution_count": null,
   "id": "41dadf46-d822-4827-a274-41cb7a1b179c",
   "metadata": {},
   "outputs": [],
   "source": [
    "%matplotlib widget\n",
    "\n",
    "from pathlib import Path\n",
    "from dataclasses import dataclass\n",
    "\n",
    "import numpy as np\n",
    "import matplotlib.pyplot as plt\n",
    "from matplotlib.patches import Rectangle\n",
    "import h5py\n",
    "import pickle\n",
    "import ipywidgets as widgets\n",
    "from ipywidgets import interact, interactive\n",
    "from IPython.display import display,clear_output\n",
    "import ncempy.algo as nalgo\n",
    "import ncempy.io as nio"
   ]
  },
  {
   "cell_type": "code",
   "execution_count": null,
   "id": "978b2690-f630-469d-86df-e62dd4a878a1",
   "metadata": {},
   "outputs": [],
   "source": [
    "# Input File Path (Change according to your computer):\n",
    "emd_file = Path(r'C:\\Users\\stoop\\Downloads\\openNCEM-master\\openNCEM-master\\ncempy\\data\\20220505_HfO2_19.emd')"
   ]
  },
  {
   "cell_type": "code",
   "execution_count": null,
   "id": "9572b195-3477-4f2e-b12f-f73f2c94821a",
   "metadata": {},
   "outputs": [],
   "source": [
    "\n",
    "\n",
    "def import_data_metadata(emd_file, index, data_name='images2048'):\n",
    "    with h5py.File(emd_file, 'r') as f:\n",
    "        pickledict = f[f'data/{data_name}/pickledict'][index] # take each images\n",
    "        d = pickle.loads(pickledict, encoding='bytes')\n",
    "        data = f[f'data/{data_name}/data'][index]\n",
    "    metadata = {}\n",
    "    metadata['pixel_size'] = d['_calX'] # this assumes X and Y have the same pixel size \n",
    "    metadata['brightness'] = d['_brightness'] # HAADF brightness \n",
    "    metadata['contrast'] = d['_contrast'] # HAADF contrast\n",
    "    metadata['comment'] = d['_comment'] # image comment\n",
    "    metadata['camera_length'] = d['_cameralength'] # camera length label\n",
    "    metadata['camera_length_index'] = d['_cameralengthindex'] # camera length index\n",
    "    metadata['convergence_angle'] = d['_convergenceAngle'] # in radians\n",
    "    metadata['defocus'] = d['_defocus']\n",
    "    metadata['dwell_time'] = d['_dwell']\n",
    "    metadata['accelerating_voltage'] = d['_HTValue']\n",
    "    metadata['image_shape'] = d['_imageDataShape']\n",
    "    metadata['magnification'] = d['_mag']\n",
    "    metadata['stage_position'] = d['_position'] # X, Y, Z, Alpha, Gamma\n",
    "    metadata['scan_rotation'] = d['_rot'] # STEM scan rotation\n",
    "    \n",
    "    return data, d, metadata\n",
    "\n",
    "def load_all_images(emd_file, data_name='images2048'):\n",
    "    with h5py.File(emd_file, 'r') as f:\n",
    "        data = f[f'data/{data_name}/data'][:]\n",
    "    return data"
   ]
  },
  {
   "cell_type": "code",
   "execution_count": null,
   "id": "f85858f3-1eab-4b69-8146-9c2841a965d5",
   "metadata": {},
   "outputs": [],
   "source": [
    "emd = nio.emd.emdReader(emd_file)\n",
    "index = 0\n",
    "data_name = 'images2048' # options are 'images2048', 'images1024', 'images512', 'images256', 'flucam'\n",
    "data, d, metadata = import_data_metadata(emd_file, index, data_name = data_name)"
   ]
  },
  {
   "cell_type": "code",
   "execution_count": null,
   "id": "041bb7a4-9962-4d46-8ad7-faec55134943",
   "metadata": {
    "tags": []
   },
   "outputs": [],
   "source": [
    "with h5py.File(emd_file, 'r') as f0:\n",
    "    length = f0['data/images2048/data'].shape[0]\n",
    "    \n",
    "ref_image, ref_dict, ref_metadata = import_data_metadata(emd_file, 0, data_name='images1024')\n",
    "final_image, final_dict, final_metadata = import_data_metadata(emd_file, 1, data_name='images1024')\n",
    "HM_image, HM_dict, HM_metadata = import_data_metadata(emd_file, 0, data_name='images2048')\n",
    "\n",
    "\n",
    "pos = []\n",
    "for ii in range(length):\n",
    "    final_image, final_dict, final_metadata = import_data_metadata(emd_file, ii+1, data_name='images1024')\n",
    "    _, __ = nalgo.align.image_correlate(final_image-final_image.mean(), ref_image-ref_image.mean())\n",
    "#     print(__)+\n",
    "    pos.append(__)\n",
    "pos = np.array(pos)\n",
    "\n",
    "sh = ref_image.shape[0]//2 - 1\n",
    "\n",
    "fg1,(ax0, ax1, ax2) = plt.subplots(1,3,figsize=(12,4))\n",
    "\n",
    "im1 = ax1.imshow(final_image)\n",
    "p1 = ax0.plot(4,4,'or')\n",
    "p1 = p1[0]\n",
    "ax0.imshow(ref_image)\n",
    "im2 = ax2.imshow(HM_image)\n",
    "ax0.set(title='Reference Image:')\n",
    "\n",
    "\n",
    "def get_ims(Image):\n",
    "    HM_image, HM_dict, HM_metadata = import_data_metadata(emd_file, Image, data_name='images2048')\n",
    "    LM_image, LM_dict, LM_metadata = import_data_metadata(emd_file, Image +1, data_name='images1024')\n",
    "    x = sh+pos[Image,1]\n",
    "    y = sh+pos[Image,0]\n",
    "    p1.set_xdata(x)\n",
    "    p1.set_ydata(y)\n",
    "    #im0.set_data(ref_image)\n",
    "    im1.set_data(LM_image)\n",
    "    im2.set_data(HM_image)\n",
    "\n",
    "\n",
    "ax1.set(title=f'Zoomed Out Image:')\n",
    "ax2.set(title=f'High Mag Image:')   \n",
    "    \n",
    "  \n",
    "ax0.axis('off')\n",
    "ax1.axis('off')\n",
    "ax2.axis('off')\n",
    "\n",
    "\n",
    "w = interactive(get_ims, Image = range(0,length))\n",
    "display(w)\n",
    "\n",
    "\n"
   ]
  },
  {
   "cell_type": "code",
   "execution_count": null,
   "id": "b48397e4-8568-4176-a53d-aa0709ff6a88",
   "metadata": {},
   "outputs": [],
   "source": []
  }
 ],
 "metadata": {
  "kernelspec": {
   "display_name": "Python 3 (ipykernel)",
   "language": "python",
   "name": "python3"
  },
  "language_info": {
   "codemirror_mode": {
    "name": "ipython",
    "version": 3
   },
   "file_extension": ".py",
   "mimetype": "text/x-python",
   "name": "python",
   "nbconvert_exporter": "python",
   "pygments_lexer": "ipython3",
   "version": "3.9.12"
  }
 },
 "nbformat": 4,
 "nbformat_minor": 5
}
